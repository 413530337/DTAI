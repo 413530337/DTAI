{
 "cells": [
  {
   "cell_type": "code",
   "execution_count": null,
   "metadata": {},
   "outputs": [],
   "source": [
    "if(score>=60):\n",
    "    grade=\"及格\"\n",
    "sum = sum + score"
   ]
  },
  {
   "cell_type": "code",
   "execution_count": 2,
   "metadata": {},
   "outputs": [
    {
     "name": "stdout",
     "output_type": "stream",
     "text": [
      "密碼正確\n"
     ]
    }
   ],
   "source": [
    "密碼 = int(input(\"請輸入密碼\"))\n",
    "if 密碼 == 1234:\n",
    "    print(\"密碼正確\")\n",
    "\n"
   ]
  },
  {
   "cell_type": "code",
   "execution_count": 6,
   "metadata": {},
   "outputs": [
    {
     "name": "stdout",
     "output_type": "stream",
     "text": [
      "出門記得帶傘\n"
     ]
    }
   ],
   "source": [
    "rain = input(\"請輸入Y or y\")\n",
    "if (rain ==\"Y\" or rain==\"y\"):\n",
    "    print(\"出門記得帶傘\") "
   ]
  },
  {
   "cell_type": "code",
   "execution_count": 8,
   "metadata": {},
   "outputs": [
    {
     "name": "stdout",
     "output_type": "stream",
     "text": [
      "密碼錯誤\n"
     ]
    }
   ],
   "source": [
    "密碼 = int(input(\"請輸入密碼\"))\n",
    "if 密碼 == 1234:\n",
    "    print(\"密碼正確\")\n",
    "else :\n",
    "    print(\"密碼錯誤\")"
   ]
  },
  {
   "cell_type": "code",
   "execution_count": 9,
   "metadata": {},
   "outputs": [
    {
     "name": "stdout",
     "output_type": "stream",
     "text": [
      "出門不用帶傘\n"
     ]
    }
   ],
   "source": [
    "rain = input(\"請輸入Y or y\")\n",
    "if (rain ==\"Y\" or rain==\"y\"):\n",
    "    print(\"出門記得帶傘\") \n",
    "if (rain ==\"N\" or rain==\"n\"):\n",
    "    print(\"出門不用帶傘\")"
   ]
  },
  {
   "cell_type": "code",
   "execution_count": 11,
   "metadata": {},
   "outputs": [
    {
     "name": "stdout",
     "output_type": "stream",
     "text": [
      "您輸入的數字是奇數\n"
     ]
    }
   ],
   "source": [
    "數值 = int(input(\"請輸入數字\"))\n",
    "if 數值%2 == 0 : \n",
    "    print(\"您輸入的數字是偶數\")\n",
    "else:\n",
    "    print(\"您輸入的數字是奇數\")"
   ]
  },
  {
   "cell_type": "code",
   "execution_count": 16,
   "metadata": {},
   "outputs": [
    {
     "name": "stdout",
     "output_type": "stream",
     "text": [
      "體溫異常，請重新量測!\n"
     ]
    }
   ],
   "source": [
    "體溫 = int(input(\"請輸入您的體溫\"))\n",
    "if 體溫 >=37.5:\n",
    "    print(\"體溫過高!\")\n",
    "elif 體溫 <=37.4 and 體溫>=37:\n",
    "    print(\"體溫略高!\")\n",
    "elif 體溫 <=36.9 and 體溫>=34:\n",
    "    print(\"體溫正常!\")\n",
    "else :\n",
    "    print(\"體溫異常，請重新量測!\")"
   ]
  },
  {
   "cell_type": "code",
   "execution_count": 17,
   "metadata": {},
   "outputs": [
    {
     "name": "stdout",
     "output_type": "stream",
     "text": [
      "E\n"
     ]
    }
   ],
   "source": [
    "grade = int(input(\"請輸入成績\"))\n",
    "if grade >=90:\n",
    "    print(\"A\")\n",
    "elif grade <=89 and grade>=80:\n",
    "    print(\"B\")\n",
    "elif grade <=79 and grade>=70:\n",
    "    print(\"C\")\n",
    "elif grade <=69 and grade>=60:\n",
    "    print(\"D\")\n",
    "else:\n",
    "    print(\"E\")"
   ]
  },
  {
   "cell_type": "code",
   "execution_count": 24,
   "metadata": {},
   "outputs": [
    {
     "name": "stdout",
     "output_type": "stream",
     "text": [
      "月份不在範圍內!\n"
     ]
    }
   ],
   "source": [
    "x = int(input(\"請輸入月份\"))\n",
    "if x>=3 and x<=5:\n",
    "    print(x,\"月是春天!\")\n",
    "elif x>=6 and x<=8:\n",
    "    print(x,\"月是夏天!\")\n",
    "elif x>=9 and x<=11:\n",
    "    print(x,\"月是秋天!\")\n",
    "elif x==12 or x>=1 and x<=2:\n",
    "    print(x,\"月是冬天!\")   \n",
    "else:\n",
    "    print(\"月份不在範圍內!\") \n",
    "                     "
   ]
  },
  {
   "cell_type": "code",
   "execution_count": 25,
   "metadata": {},
   "outputs": [
    {
     "name": "stdout",
     "output_type": "stream",
     "text": [
      "899.1\n"
     ]
    }
   ],
   "source": [
    "total = int(input(\"請輸入購物車總額\"))\n",
    "if total>1000:\n",
    "    print(total*0.8)\n",
    "elif total >=500 and total<=1000:\n",
    "    print(total*0.9)\n",
    "else:\n",
    "    print(total)\n"
   ]
  },
  {
   "cell_type": "code",
   "execution_count": 26,
   "metadata": {},
   "outputs": [
    {
     "name": "stdout",
     "output_type": "stream",
     "text": [
      "油量充足\n"
     ]
    }
   ],
   "source": [
    "fuel= int(input(\"請輸入油量\"))\n",
    "if fuel<5:\n",
    "    print(\"需要立即加油！\")\n",
    "elif fuel>=5 and fuel<10:\n",
    "    print(\"油量不足，建議加油\")\n",
    "else:\n",
    "    print(\"油量充足\")"
   ]
  },
  {
   "cell_type": "code",
   "execution_count": 27,
   "metadata": {},
   "outputs": [
    {
     "name": "stdout",
     "output_type": "stream",
     "text": [
      "5450\n"
     ]
    }
   ],
   "source": [
    "amount= int(input(\"請輸入轉帳金額\"))\n",
    "if amount>10000:\n",
    "    print(amount)\n",
    "elif amount>5000 and amount<=10000:\n",
    "    print(amount-50)\n",
    "elif amount>1000 and amount<=5000:\n",
    "    print(amount-100)\n",
    "else:\n",
    "    print(amount-150)"
   ]
  },
  {
   "cell_type": "code",
   "execution_count": 2,
   "metadata": {},
   "outputs": [],
   "source": [
    "c = range(3, 8, 1)"
   ]
  },
  {
   "cell_type": "code",
   "execution_count": 3,
   "metadata": {},
   "outputs": [
    {
     "name": "stdout",
     "output_type": "stream",
     "text": [
      "range(3, 8)\n"
     ]
    }
   ],
   "source": [
    "print(c)"
   ]
  },
  {
   "cell_type": "code",
   "execution_count": 4,
   "metadata": {},
   "outputs": [],
   "source": [
    "d = range(3, 8, 2)"
   ]
  },
  {
   "cell_type": "code",
   "execution_count": 5,
   "metadata": {},
   "outputs": [
    {
     "name": "stdout",
     "output_type": "stream",
     "text": [
      "range(3, 8, 2)\n"
     ]
    }
   ],
   "source": [
    "print(d)"
   ]
  },
  {
   "cell_type": "code",
   "execution_count": 6,
   "metadata": {},
   "outputs": [],
   "source": [
    "e = range(8, 3, -1)"
   ]
  },
  {
   "cell_type": "code",
   "execution_count": 7,
   "metadata": {},
   "outputs": [
    {
     "name": "stdout",
     "output_type": "stream",
     "text": [
      "range(8, 3, -1)\n"
     ]
    }
   ],
   "source": [
    "print(e)"
   ]
  },
  {
   "cell_type": "code",
   "execution_count": 8,
   "metadata": {},
   "outputs": [
    {
     "name": "stdout",
     "output_type": "stream",
     "text": [
      "range(3, 8) range(3, 8, 2) range(8, 3, -1)\n"
     ]
    }
   ],
   "source": [
    "print(c,d,e)"
   ]
  },
  {
   "cell_type": "code",
   "execution_count": 9,
   "metadata": {},
   "outputs": [
    {
     "name": "stdout",
     "output_type": "stream",
     "text": [
      "[8, 7, 6, 5, 4]\n"
     ]
    }
   ],
   "source": [
    "print(list(e))"
   ]
  },
  {
   "cell_type": "code",
   "execution_count": 13,
   "metadata": {},
   "outputs": [],
   "source": [
    "a=range(0,9,1)"
   ]
  },
  {
   "cell_type": "code",
   "execution_count": 14,
   "metadata": {},
   "outputs": [
    {
     "name": "stdout",
     "output_type": "stream",
     "text": [
      "range(0, 9)\n"
     ]
    }
   ],
   "source": [
    "print(a)\n"
   ]
  },
  {
   "cell_type": "code",
   "execution_count": 15,
   "metadata": {},
   "outputs": [
    {
     "name": "stdout",
     "output_type": "stream",
     "text": [
      "[0, 1, 2, 3, 4, 5, 6, 7, 8]\n"
     ]
    }
   ],
   "source": [
    "print(list(a))\n"
   ]
  },
  {
   "cell_type": "code",
   "execution_count": 16,
   "metadata": {},
   "outputs": [],
   "source": [
    "c1=list(c)"
   ]
  },
  {
   "cell_type": "code",
   "execution_count": 17,
   "metadata": {},
   "outputs": [
    {
     "name": "stdout",
     "output_type": "stream",
     "text": [
      "<class 'list'>\n"
     ]
    }
   ],
   "source": [
    "print(type(c1))"
   ]
  },
  {
   "cell_type": "code",
   "execution_count": 18,
   "metadata": {},
   "outputs": [
    {
     "name": "stdout",
     "output_type": "stream",
     "text": [
      "range(3, 8)\n"
     ]
    }
   ],
   "source": [
    "print(c)"
   ]
  },
  {
   "cell_type": "code",
   "execution_count": 19,
   "metadata": {},
   "outputs": [
    {
     "name": "stdout",
     "output_type": "stream",
     "text": [
      "0\n",
      "1\n",
      "2\n",
      "3\n",
      "4\n"
     ]
    }
   ],
   "source": [
    "for i in range(5):\n",
    "    print(i)"
   ]
  },
  {
   "cell_type": "code",
   "execution_count": 23,
   "metadata": {},
   "outputs": [
    {
     "name": "stdout",
     "output_type": "stream",
     "text": [
      "[0, 1, 2, 3, 4, 5, 6, 7, 8]\n",
      "[1, 2, 3, 4, 5, 6, 7, 8, 9]\n",
      "[1, 3, 5, 7, 9]\n",
      "[10, 8, 6, 4, 2]\n"
     ]
    }
   ],
   "source": [
    "a=range(0,9,1)\n",
    "print(list(a))\n",
    "b=range(1,10,1)\n",
    "print(list(b))\n",
    "c=range(1,10,2)\n",
    "print(list(c))\n",
    "d=range(10,1,-2)\n",
    "print(list(d))"
   ]
  },
  {
   "cell_type": "code",
   "execution_count": 25,
   "metadata": {},
   "outputs": [
    {
     "name": "stdout",
     "output_type": "stream",
     "text": [
      "0,1,2,"
     ]
    }
   ],
   "source": [
    "for n in range(3):\n",
    "    print(n, end=\",\" )"
   ]
  },
  {
   "cell_type": "code",
   "execution_count": 28,
   "metadata": {},
   "outputs": [
    {
     "name": "stdout",
     "output_type": "stream",
     "text": [
      "1 2 3 4 5 6 7 8 9 10 11 12 "
     ]
    }
   ],
   "source": [
    "n=int(input(\"請輸入正整數\"))\n",
    "for n in range(1,n+1,1):\n",
    "    print(n,end=\" \")"
   ]
  },
  {
   "cell_type": "code",
   "execution_count": 30,
   "metadata": {},
   "outputs": [
    {
     "name": "stdout",
     "output_type": "stream",
     "text": [
      "3\n"
     ]
    }
   ],
   "source": [
    "\n",
    "sum = 0 \n",
    "for n in range(3):\n",
    "   sum = sum+n\n",
    "print(sum) \n"
   ]
  },
  {
   "cell_type": "code",
   "execution_count": 34,
   "metadata": {},
   "outputs": [
    {
     "name": "stdout",
     "output_type": "stream",
     "text": [
      "55\n"
     ]
    }
   ],
   "source": [
    "sum=0\n",
    "for n in range(11):\n",
    "    sum=sum+n\n",
    "print(sum)"
   ]
  },
  {
   "cell_type": "code",
   "execution_count": 37,
   "metadata": {},
   "outputs": [
    {
     "name": "stdout",
     "output_type": "stream",
     "text": [
      "1275\n"
     ]
    }
   ],
   "source": [
    "n=int(input(\"數字\"))\n",
    "sum = 0 \n",
    "for n in range(1,n+1,1):     \n",
    "    sum = sum+n \n",
    "print(sum) \n"
   ]
  },
  {
   "cell_type": "code",
   "execution_count": 47,
   "metadata": {},
   "outputs": [
    {
     "name": "stdout",
     "output_type": "stream",
     "text": [
      "1到 0 的整數合為: 0\n",
      "1到 1 的整數合為: 1\n",
      "1到 2 的整數合為: 3\n",
      "1到 3 的整數合為: 6\n",
      "1到 4 的整數合為: 10\n",
      "1到 5 的整數合為: 15\n",
      "1到 6 的整數合為: 21\n",
      "1到 7 的整數合為: 28\n",
      "1到 8 的整數合為: 36\n",
      "1到 9 的整數合為: 45\n",
      "1到 10 的整數合為: 55\n"
     ]
    }
   ],
   "source": [
    "sum=0\n",
    "for n in range(11):\n",
    "    sum=sum+n\n",
    "    print(\"1到\",n,\"的整數合為:\",sum)"
   ]
  },
  {
   "cell_type": "code",
   "execution_count": 49,
   "metadata": {},
   "outputs": [
    {
     "name": "stdout",
     "output_type": "stream",
     "text": [
      "5050\n"
     ]
    }
   ],
   "source": [
    "sum=0\n",
    "for n in range(1,101,1):\n",
    "    sum=sum+n\n",
    "print(sum)\n"
   ]
  },
  {
   "cell_type": "code",
   "execution_count": 53,
   "metadata": {},
   "outputs": [
    {
     "name": "stdout",
     "output_type": "stream",
     "text": [
      "10\n",
      "9\n",
      "8\n",
      "7\n",
      "6\n",
      "5\n",
      "4\n",
      "3\n",
      "2\n",
      "1\n",
      "倒數結束!\n"
     ]
    }
   ],
   "source": [
    "for n in range(10,0,-1):\n",
    "    print(n)\n",
    "print(\"倒數結束!\")"
   ]
  },
  {
   "cell_type": "code",
   "execution_count": 58,
   "metadata": {},
   "outputs": [
    {
     "name": "stdout",
     "output_type": "stream",
     "text": [
      "1\n",
      "4\n",
      "9\n",
      "16\n",
      "25\n",
      "36\n",
      "49\n",
      "64\n",
      "81\n",
      "100\n"
     ]
    }
   ],
   "source": [
    "a=0\n",
    "for n in range(1,11):\n",
    "    a=n**2\n",
    "    print(a)"
   ]
  },
  {
   "cell_type": "code",
   "execution_count": 62,
   "metadata": {},
   "outputs": [
    {
     "name": "stdout",
     "output_type": "stream",
     "text": [
      "3 7 11 15 19 23 27 "
     ]
    }
   ],
   "source": [
    "for n in range(3,30,4):\n",
    "    print(n,end=\" \")\n",
    "\n"
   ]
  },
  {
   "cell_type": "code",
   "execution_count": 70,
   "metadata": {},
   "outputs": [
    {
     "name": "stdout",
     "output_type": "stream",
     "text": [
      "26 27 28 29 30 31 32 33 34 35 36 37 38 39 40 41 42 43 44 45 46 47 48 49 "
     ]
    }
   ],
   "source": [
    "a=int (input(\"請輸入數字1\"))\n",
    "b=int (input(\"請輸入數字2\"))\n",
    "for n in range(a,b):\n",
    "    if n>25:\n",
    "      print(n,end=\" \")"
   ]
  },
  {
   "cell_type": "code",
   "execution_count": null,
   "metadata": {},
   "outputs": [],
   "source": []
  }
 ],
 "metadata": {
  "kernelspec": {
   "display_name": "Python 3",
   "language": "python",
   "name": "python3"
  },
  "language_info": {
   "codemirror_mode": {
    "name": "ipython",
    "version": 3
   },
   "file_extension": ".py",
   "mimetype": "text/x-python",
   "name": "python",
   "nbconvert_exporter": "python",
   "pygments_lexer": "ipython3",
   "version": "3.12.4"
  }
 },
 "nbformat": 4,
 "nbformat_minor": 2
}
