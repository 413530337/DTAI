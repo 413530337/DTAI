{
 "cells": [
  {
   "cell_type": "code",
   "execution_count": null,
   "metadata": {},
   "outputs": [],
   "source": [
    "if(score>=60):\n",
    "    grade=\"及格\"\n",
    "sum = sum + score"
   ]
  },
  {
   "cell_type": "code",
   "execution_count": 2,
   "metadata": {},
   "outputs": [
    {
     "name": "stdout",
     "output_type": "stream",
     "text": [
      "密碼正確\n"
     ]
    }
   ],
   "source": [
    "密碼 = int(input(\"請輸入密碼\"))\n",
    "if 密碼 == 1234:\n",
    "    print(\"密碼正確\")\n",
    "\n"
   ]
  },
  {
   "cell_type": "code",
   "execution_count": 6,
   "metadata": {},
   "outputs": [
    {
     "name": "stdout",
     "output_type": "stream",
     "text": [
      "出門記得帶傘\n"
     ]
    }
   ],
   "source": [
    "rain = input(\"請輸入Y or y\")\n",
    "if (rain ==\"Y\" or rain==\"y\"):\n",
    "    print(\"出門記得帶傘\") "
   ]
  },
  {
   "cell_type": "code",
   "execution_count": 8,
   "metadata": {},
   "outputs": [
    {
     "name": "stdout",
     "output_type": "stream",
     "text": [
      "密碼錯誤\n"
     ]
    }
   ],
   "source": [
    "密碼 = int(input(\"請輸入密碼\"))\n",
    "if 密碼 == 1234:\n",
    "    print(\"密碼正確\")\n",
    "else :\n",
    "    print(\"密碼錯誤\")"
   ]
  },
  {
   "cell_type": "code",
   "execution_count": 9,
   "metadata": {},
   "outputs": [
    {
     "name": "stdout",
     "output_type": "stream",
     "text": [
      "出門不用帶傘\n"
     ]
    }
   ],
   "source": [
    "rain = input(\"請輸入Y or y\")\n",
    "if (rain ==\"Y\" or rain==\"y\"):\n",
    "    print(\"出門記得帶傘\") \n",
    "if (rain ==\"N\" or rain==\"n\"):\n",
    "    print(\"出門不用帶傘\")"
   ]
  },
  {
   "cell_type": "code",
   "execution_count": 11,
   "metadata": {},
   "outputs": [
    {
     "name": "stdout",
     "output_type": "stream",
     "text": [
      "您輸入的數字是奇數\n"
     ]
    }
   ],
   "source": [
    "數值 = int(input(\"請輸入數字\"))\n",
    "if 數值%2 == 0 : \n",
    "    print(\"您輸入的數字是偶數\")\n",
    "else:\n",
    "    print(\"您輸入的數字是奇數\")"
   ]
  },
  {
   "cell_type": "code",
   "execution_count": 16,
   "metadata": {},
   "outputs": [
    {
     "name": "stdout",
     "output_type": "stream",
     "text": [
      "體溫異常，請重新量測!\n"
     ]
    }
   ],
   "source": [
    "體溫 = int(input(\"請輸入您的體溫\"))\n",
    "if 體溫 >=37.5:\n",
    "    print(\"體溫過高!\")\n",
    "elif 體溫 <=37.4 and 體溫>=37:\n",
    "    print(\"體溫略高!\")\n",
    "elif 體溫 <=36.9 and 體溫>=34:\n",
    "    print(\"體溫正常!\")\n",
    "else :\n",
    "    print(\"體溫異常，請重新量測!\")"
   ]
  },
  {
   "cell_type": "code",
   "execution_count": 17,
   "metadata": {},
   "outputs": [
    {
     "name": "stdout",
     "output_type": "stream",
     "text": [
      "E\n"
     ]
    }
   ],
   "source": [
    "grade = int(input(\"請輸入成績\"))\n",
    "if grade >=90:\n",
    "    print(\"A\")\n",
    "elif grade <=89 and grade>=80:\n",
    "    print(\"B\")\n",
    "elif grade <=79 and grade>=70:\n",
    "    print(\"C\")\n",
    "elif grade <=69 and grade>=60:\n",
    "    print(\"D\")\n",
    "else:\n",
    "    print(\"E\")"
   ]
  },
  {
   "cell_type": "code",
   "execution_count": 24,
   "metadata": {},
   "outputs": [
    {
     "name": "stdout",
     "output_type": "stream",
     "text": [
      "月份不在範圍內!\n"
     ]
    }
   ],
   "source": [
    "x = int(input(\"請輸入月份\"))\n",
    "if x>=3 and x<=5:\n",
    "    print(x,\"月是春天!\")\n",
    "elif x>=6 and x<=8:\n",
    "    print(x,\"月是夏天!\")\n",
    "elif x>=9 and x<=11:\n",
    "    print(x,\"月是秋天!\")\n",
    "elif x==12 or x>=1 and x<=2:\n",
    "    print(x,\"月是冬天!\")   \n",
    "else:\n",
    "    print(\"月份不在範圍內!\") \n",
    "                     "
   ]
  },
  {
   "cell_type": "code",
   "execution_count": 25,
   "metadata": {},
   "outputs": [
    {
     "name": "stdout",
     "output_type": "stream",
     "text": [
      "899.1\n"
     ]
    }
   ],
   "source": [
    "total = int(input(\"請輸入購物車總額\"))\n",
    "if total>1000:\n",
    "    print(total*0.8)\n",
    "elif total >=500 and total<=1000:\n",
    "    print(total*0.9)\n",
    "else:\n",
    "    print(total)\n"
   ]
  },
  {
   "cell_type": "code",
   "execution_count": 26,
   "metadata": {},
   "outputs": [
    {
     "name": "stdout",
     "output_type": "stream",
     "text": [
      "油量充足\n"
     ]
    }
   ],
   "source": [
    "fuel= int(input(\"請輸入油量\"))\n",
    "if fuel<5:\n",
    "    print(\"需要立即加油！\")\n",
    "elif fuel>=5 and fuel<10:\n",
    "    print(\"油量不足，建議加油\")\n",
    "else:\n",
    "    print(\"油量充足\")"
   ]
  },
  {
   "cell_type": "code",
   "execution_count": 27,
   "metadata": {},
   "outputs": [
    {
     "name": "stdout",
     "output_type": "stream",
     "text": [
      "5450\n"
     ]
    }
   ],
   "source": [
    "amount= int(input(\"請輸入轉帳金額\"))\n",
    "if amount>10000:\n",
    "    print(amount)\n",
    "elif amount>5000 and amount<=10000:\n",
    "    print(amount-50)\n",
    "elif amount>1000 and amount<=5000:\n",
    "    print(amount-100)\n",
    "else:\n",
    "    print(amount-150)"
   ]
  },
  {
   "cell_type": "code",
   "execution_count": null,
   "metadata": {},
   "outputs": [],
   "source": []
  }
 ],
 "metadata": {
  "kernelspec": {
   "display_name": "Python 3",
   "language": "python",
   "name": "python3"
  },
  "language_info": {
   "codemirror_mode": {
    "name": "ipython",
    "version": 3
   },
   "file_extension": ".py",
   "mimetype": "text/x-python",
   "name": "python",
   "nbconvert_exporter": "python",
   "pygments_lexer": "ipython3",
   "version": "3.12.4"
  }
 },
 "nbformat": 4,
 "nbformat_minor": 2
}
