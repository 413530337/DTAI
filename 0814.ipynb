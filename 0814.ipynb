{
 "cells": [
  {
   "cell_type": "code",
   "execution_count": 1,
   "metadata": {},
   "outputs": [
    {
     "name": "stdout",
     "output_type": "stream",
     "text": [
      "1\n",
      "1 * 1 = 1\n",
      "1 * 2 = 2\n",
      "2\n",
      "2 * 1 = 2\n",
      "2 * 2 = 4\n",
      "3\n",
      "3 * 1 = 3\n",
      "3 * 2 = 6\n",
      "4\n",
      "4 * 1 = 4\n",
      "4 * 2 = 8\n"
     ]
    }
   ],
   "source": [
    "for j in range(1,5):\n",
    "    print(j)\n",
    "    for i in range(1,3):\n",
    "        k=i*j\n",
    "        print(j,\"*\",i,\"=\",k)   "
   ]
  },
  {
   "cell_type": "code",
   "execution_count": 2,
   "metadata": {},
   "outputs": [
    {
     "name": "stdout",
     "output_type": "stream",
     "text": [
      "2\n",
      "2 * 1 = 2\n",
      "2 * 2 = 4\n",
      "2 * 3 = 6\n",
      "2 * 4 = 8\n",
      "2 * 5 = 10\n",
      "2 * 6 = 12\n",
      "2 * 7 = 14\n",
      "2 * 8 = 16\n",
      "2 * 9 = 18\n",
      "3\n",
      "3 * 1 = 3\n",
      "3 * 2 = 6\n",
      "3 * 3 = 9\n",
      "3 * 4 = 12\n",
      "3 * 5 = 15\n",
      "3 * 6 = 18\n",
      "3 * 7 = 21\n",
      "3 * 8 = 24\n",
      "3 * 9 = 27\n",
      "4\n",
      "4 * 1 = 4\n",
      "4 * 2 = 8\n",
      "4 * 3 = 12\n",
      "4 * 4 = 16\n",
      "4 * 5 = 20\n",
      "4 * 6 = 24\n",
      "4 * 7 = 28\n",
      "4 * 8 = 32\n",
      "4 * 9 = 36\n",
      "5\n",
      "5 * 1 = 5\n",
      "5 * 2 = 10\n",
      "5 * 3 = 15\n",
      "5 * 4 = 20\n",
      "5 * 5 = 25\n",
      "5 * 6 = 30\n",
      "5 * 7 = 35\n",
      "5 * 8 = 40\n",
      "5 * 9 = 45\n",
      "6\n",
      "6 * 1 = 6\n",
      "6 * 2 = 12\n",
      "6 * 3 = 18\n",
      "6 * 4 = 24\n",
      "6 * 5 = 30\n",
      "6 * 6 = 36\n",
      "6 * 7 = 42\n",
      "6 * 8 = 48\n",
      "6 * 9 = 54\n",
      "7\n",
      "7 * 1 = 7\n",
      "7 * 2 = 14\n",
      "7 * 3 = 21\n",
      "7 * 4 = 28\n",
      "7 * 5 = 35\n",
      "7 * 6 = 42\n",
      "7 * 7 = 49\n",
      "7 * 8 = 56\n",
      "7 * 9 = 63\n",
      "8\n",
      "8 * 1 = 8\n",
      "8 * 2 = 16\n",
      "8 * 3 = 24\n",
      "8 * 4 = 32\n",
      "8 * 5 = 40\n",
      "8 * 6 = 48\n",
      "8 * 7 = 56\n",
      "8 * 8 = 64\n",
      "8 * 9 = 72\n",
      "9\n",
      "9 * 1 = 9\n",
      "9 * 2 = 18\n",
      "9 * 3 = 27\n",
      "9 * 4 = 36\n",
      "9 * 5 = 45\n",
      "9 * 6 = 54\n",
      "9 * 7 = 63\n",
      "9 * 8 = 72\n",
      "9 * 9 = 81\n"
     ]
    }
   ],
   "source": [
    "for j in range(2,10):\n",
    "    print(j)\n",
    "    for i in range(1,10):\n",
    "        k=i*j\n",
    "        print(j,\"*\",i,\"=\",k)   "
   ]
  },
  {
   "cell_type": "code",
   "execution_count": 17,
   "metadata": {},
   "outputs": [
    {
     "name": "stdout",
     "output_type": "stream",
     "text": [
      "2\n",
      "2*1=2  2*2=4  2*3=6  2*4=8  2*5=10  2*6=12  2*7=14  2*8=16  2*9=18  \n",
      "3\n",
      "3*1=3  3*2=6  3*3=9  3*4=12  3*5=15  3*6=18  3*7=21  3*8=24  3*9=27  \n",
      "4\n",
      "4*1=4  4*2=8  4*3=12  4*4=16  4*5=20  4*6=24  4*7=28  4*8=32  4*9=36  \n",
      "5\n",
      "5*1=5  5*2=10  5*3=15  5*4=20  5*5=25  5*6=30  5*7=35  5*8=40  5*9=45  \n",
      "6\n",
      "6*1=6  6*2=12  6*3=18  6*4=24  6*5=30  6*6=36  6*7=42  6*8=48  6*9=54  \n",
      "7\n",
      "7*1=7  7*2=14  7*3=21  7*4=28  7*5=35  7*6=42  7*7=49  7*8=56  7*9=63  \n",
      "8\n",
      "8*1=8  8*2=16  8*3=24  8*4=32  8*5=40  8*6=48  8*7=56  8*8=64  8*9=72  \n",
      "9\n",
      "9*1=9  9*2=18  9*3=27  9*4=36  9*5=45  9*6=54  9*7=63  9*8=72  9*9=81  \n"
     ]
    }
   ],
   "source": [
    "for j in range(2,10):\n",
    "    print(j)\n",
    "    for i in range(1,10):\n",
    "        k=i*j\n",
    "        print(j,\"*\",i,\"=\",k,sep=\"\",end=\"  \")\n",
    "    print()  "
   ]
  },
  {
   "cell_type": "code",
   "execution_count": 16,
   "metadata": {},
   "outputs": [
    {
     "name": "stdout",
     "output_type": "stream",
     "text": [
      "2*1= 2  2*2= 4  2*3= 6  2*4= 8  2*5=10  2*6=12  2*7=14  2*8=16  2*9=18  \n",
      "3*1= 3  3*2= 6  3*3= 9  3*4=12  3*5=15  3*6=18  3*7=21  3*8=24  3*9=27  \n",
      "4*1= 4  4*2= 8  4*3=12  4*4=16  4*5=20  4*6=24  4*7=28  4*8=32  4*9=36  \n",
      "5*1= 5  5*2=10  5*3=15  5*4=20  5*5=25  5*6=30  5*7=35  5*8=40  5*9=45  \n",
      "6*1= 6  6*2=12  6*3=18  6*4=24  6*5=30  6*6=36  6*7=42  6*8=48  6*9=54  \n",
      "7*1= 7  7*2=14  7*3=21  7*4=28  7*5=35  7*6=42  7*7=49  7*8=56  7*9=63  \n",
      "8*1= 8  8*2=16  8*3=24  8*4=32  8*5=40  8*6=48  8*7=56  8*8=64  8*9=72  \n",
      "9*1= 9  9*2=18  9*3=27  9*4=36  9*5=45  9*6=54  9*7=63  9*8=72  9*9=81  \n"
     ]
    }
   ],
   "source": [
    "for j in range(2, 10):  \n",
    "    for i in range(1, 10):  \n",
    "        print(\"%d*%d=%2d\" % (j, i, j * i), end=\"  \")\n",
    "    print()"
   ]
  },
  {
   "cell_type": "code",
   "execution_count": 13,
   "metadata": {},
   "outputs": [
    {
     "name": "stdout",
     "output_type": "stream",
     "text": [
      "2*1= 2  2*2= 4  2*3= 6  2*4= 8  2*5=10  2*6=12  2*7=14  2*8=16  2*9=18  \n",
      "3*1= 3  3*2= 6  3*3= 9  3*4=12  3*5=15  3*6=18  3*7=21  3*8=24  3*9=27  \n",
      "4*1= 4  4*2= 8  4*3=12  4*4=16  4*5=20  4*6=24  4*7=28  4*8=32  4*9=36  \n",
      "5*1= 5  5*2=10  5*3=15  5*4=20  5*5=25  5*6=30  5*7=35  5*8=40  5*9=45  \n",
      "6*1= 6  6*2=12  6*3=18  6*4=24  6*5=30  6*6=36  6*7=42  6*8=48  6*9=54  \n",
      "7*1= 7  7*2=14  7*3=21  7*4=28  7*5=35  7*6=42  7*7=49  7*8=56  7*9=63  \n",
      "8*1= 8  8*2=16  8*3=24  8*4=32  8*5=40  8*6=48  8*7=56  8*8=64  8*9=72  \n",
      "9*1= 9  9*2=18  9*3=27  9*4=36  9*5=45  9*6=54  9*7=63  9*8=72  9*9=81  \n"
     ]
    }
   ],
   "source": [
    "for j in range(2, 10):  # 外層控制被乘數\n",
    "    for i in range(1, 10):  # 內層控制乘數\n",
    "        k = i * j\n",
    "        print(\"%d*%d=%2d\" % (j, i, k), end=\"  \")\n",
    "    print()  # 每一行輸出完畢後換行"
   ]
  },
  {
   "cell_type": "code",
   "execution_count": 14,
   "metadata": {},
   "outputs": [
    {
     "name": "stdout",
     "output_type": "stream",
     "text": [
      "1 2 3 "
     ]
    }
   ],
   "source": [
    "for i in range(1,5):\n",
    "    if(i==4):\n",
    "        break\n",
    "    print(i,end=\" \")"
   ]
  },
  {
   "cell_type": "code",
   "execution_count": 15,
   "metadata": {},
   "outputs": [
    {
     "name": "stdout",
     "output_type": "stream",
     "text": [
      "1 2 3 "
     ]
    }
   ],
   "source": [
    "for i in range(1,5):\n",
    "    if(i==4):\n",
    "        continue\n",
    "    print(i,end=\" \")"
   ]
  },
  {
   "cell_type": "code",
   "execution_count": 18,
   "metadata": {},
   "outputs": [
    {
     "name": "stdout",
     "output_type": "stream",
     "text": [
      "能被 7 整除的數字: 7\n",
      "能被 7 整除的數字: 14\n"
     ]
    }
   ],
   "source": [
    "for i in range(1, 20):\n",
    "    if i % 7 == 0:\n",
    "        print(\"能被 7 整除的數字: %d\" % i)"
   ]
  },
  {
   "cell_type": "code",
   "execution_count": 22,
   "metadata": {},
   "outputs": [
    {
     "name": "stdout",
     "output_type": "stream",
     "text": [
      "奇數: 1\n",
      "奇數: 3\n",
      "奇數: 5\n",
      "奇數: 7\n",
      "奇數: 9\n",
      "奇數: 11\n",
      "奇數: 13\n",
      "奇數: 15\n",
      "奇數: 17\n",
      "奇數: 19\n"
     ]
    }
   ],
   "source": [
    "for i in range(1, 20):\n",
    "    if i % 2 == 0:\n",
    "        continue\n",
    "    print(\"奇數: %d\" % i)"
   ]
  },
  {
   "cell_type": "code",
   "execution_count": 28,
   "metadata": {},
   "outputs": [
    {
     "name": "stdout",
     "output_type": "stream",
     "text": [
      "4 和 6 的最小公倍數: 12\n"
     ]
    }
   ],
   "source": [
    "a=int(input(\"請輸入a的值\"))\n",
    "b=int(input(\"請輸入b的值\"))\n",
    "for i in range(1,20):\n",
    "    if i%a==0  and i%b==0:\n",
    "        print (a,\"和\",b,\"的最小公倍數:\",i)\n",
    "        break"
   ]
  },
  {
   "cell_type": "code",
   "execution_count": 30,
   "metadata": {},
   "outputs": [
    {
     "name": "stdout",
     "output_type": "stream",
     "text": [
      "9 和 15 的最小公倍數: 45\n"
     ]
    }
   ],
   "source": [
    "a=int(input(\"請輸入a的值\"))\n",
    "b=int(input(\"請輸入b的值\"))\n",
    "for i in range(1,50):\n",
    "    if i%a==0  and i%b==0:\n",
    "        print (a,\"和\",b,\"的最小公倍數:\",i)"
   ]
  },
  {
   "cell_type": "code",
   "execution_count": 33,
   "metadata": {},
   "outputs": [
    {
     "name": "stdout",
     "output_type": "stream",
     "text": [
      "1 2 3 4 6 7 8 9 11 12 "
     ]
    }
   ],
   "source": [
    "a=int(input(\"請輸入數字\"))\n",
    "for i in range(1,a+1):\n",
    "    if i %5 !=0:\n",
    "        print(\"%d\" %i, end=\" \")\n",
    "    "
   ]
  },
  {
   "cell_type": "code",
   "execution_count": 34,
   "metadata": {},
   "outputs": [
    {
     "name": "stdout",
     "output_type": "stream",
     "text": [
      "55\n"
     ]
    }
   ],
   "source": [
    "total = n =0\n",
    "while(n<10):\n",
    "    n+=1\n",
    "    total+=n\n",
    "print(total)"
   ]
  },
  {
   "cell_type": "code",
   "execution_count": 42,
   "metadata": {},
   "outputs": [
    {
     "name": "stdout",
     "output_type": "stream",
     "text": [
      "請輸入正整數n的值: 5 5 != 120\n"
     ]
    }
   ],
   "source": [
    "n=int(input(\"請輸入數字\"))\n",
    "total = 1\n",
    "i=1\n",
    "while i <=n:\n",
    "    total*=i\n",
    "    i +=1\n",
    "print(\"請輸入正整數n的值:\",n,n,\"!=\",total)"
   ]
  },
  {
   "cell_type": "code",
   "execution_count": 45,
   "metadata": {},
   "outputs": [
    {
     "name": "stdout",
     "output_type": "stream",
     "text": [
      "請輸入正整數n的值: 6 6 != 720\n"
     ]
    }
   ],
   "source": [
    "n=int(input(\"請輸入數字\"))\n",
    "total = 1\n",
    "i=1\n",
    "while i <=n:\n",
    "    total*=i\n",
    "    i +=1\n",
    "print(\"請輸入正整數n的值:\",n,n,\"!=\",total)"
   ]
  },
  {
   "cell_type": "code",
   "execution_count": 46,
   "metadata": {},
   "outputs": [
    {
     "name": "stdout",
     "output_type": "stream",
     "text": [
      "0~50的偶數和結果是: 650\n"
     ]
    }
   ],
   "source": [
    "total = n =0\n",
    "while(n<50):\n",
    "    n+=2\n",
    "    total+=n\n",
    "print(\"0~50的偶數和結果是:\",total)"
   ]
  },
  {
   "cell_type": "code",
   "execution_count": 54,
   "metadata": {},
   "outputs": [
    {
     "name": "stdout",
     "output_type": "stream",
     "text": [
      "0~50的奇數和結果是: 625\n"
     ]
    }
   ],
   "source": [
    "total=0\n",
    "n=1\n",
    "while n <=50:\n",
    "      if n %2!=0:\n",
    "            total+=n\n",
    "      n+=2 \n",
    "print(\"0~50的奇數和結果是:\",total)\n"
   ]
  },
  {
   "cell_type": "code",
   "execution_count": 58,
   "metadata": {},
   "outputs": [
    {
     "name": "stdout",
     "output_type": "stream",
     "text": [
      "*******\n",
      "******\n",
      "*****\n",
      "****\n",
      "***\n",
      "**\n",
      "*\n"
     ]
    }
   ],
   "source": [
    "n=int(input(\"請輸入一個整數\"))\n",
    "if n <=0:\n",
    "    print(\"請輸入一個正整數。\")\n",
    "else:\n",
    "    for i in range(n,0,-1):\n",
    "        for j in range(1,i+1):\n",
    "            print( end=\"*\")\n",
    "        print()"
   ]
  },
  {
   "cell_type": "code",
   "execution_count": 59,
   "metadata": {},
   "outputs": [
    {
     "name": "stdout",
     "output_type": "stream",
     "text": [
      "*****\n",
      "****\n",
      "***\n",
      "**\n",
      "*\n"
     ]
    }
   ],
   "source": [
    "n=int(input(\"請輸入一個整數\"))\n",
    "if n <=0:\n",
    "    print(\"請輸入一個正整數。\")\n",
    "else:\n",
    "    for i in range(n,0,-1):\n",
    "        for j in range(1,i+1):\n",
    "            print( end=\"*\")\n",
    "        print()"
   ]
  },
  {
   "cell_type": "code",
   "execution_count": 60,
   "metadata": {},
   "outputs": [
    {
     "name": "stdout",
     "output_type": "stream",
     "text": [
      "*******\n",
      "******\n",
      "*****\n",
      "****\n",
      "***\n",
      "**\n",
      "*\n"
     ]
    }
   ],
   "source": [
    "n=int(input(\"請輸入一個正整數:\"))\n",
    "i=n\n",
    "while i > 0 :\n",
    "    print('*'*i)\n",
    "    i-=1\n"
   ]
  },
  {
   "cell_type": "code",
   "execution_count": 63,
   "metadata": {},
   "outputs": [
    {
     "name": "stdout",
     "output_type": "stream",
     "text": [
      "數值1~100中，所有是3或7的倍數的樹枝總和=2208\n"
     ]
    }
   ],
   "source": [
    "total_sum = 0\n",
    "for i in range(1,101):\n",
    "    if i %3 == 0 or i %7 ==0:\n",
    "        total_sum +=i\n",
    "print(\"數值1~100中，所有是3或7的倍數的樹枝總和=\"+str(total_sum))"
   ]
  },
  {
   "cell_type": "code",
   "execution_count": 61,
   "metadata": {},
   "outputs": [
    {
     "name": "stdout",
     "output_type": "stream",
     "text": [
      "3 6 9 12 15 18 21 24 27 30 33 36 39 42 45 48 51 54 57 60 63 66 69 72 75 78 81 84 87 90 93 96 99 1683\n"
     ]
    }
   ],
   "source": [
    "total=0\n",
    "for i in range(1,101):\n",
    "    if i %3==0:\n",
    "        total +=i\n",
    "        print(i,end=\" \")\n",
    "print(total)"
   ]
  },
  {
   "cell_type": "code",
   "execution_count": 67,
   "metadata": {},
   "outputs": [
    {
     "name": "stdout",
     "output_type": "stream",
     "text": [
      "12 的因數有 1 2 3 4 6 12\n",
      "12 不是質數\n"
     ]
    }
   ],
   "source": [
    "n = int(input(\"請輸入正整數: \"))\n",
    "factors = []\n",
    "for i in range(1, n + 1):\n",
    "    if n % i == 0:\n",
    "        factors.append(i)\n",
    "print(str(n) + \" 的因數有 \" + ' '.join(map(str, factors)))\n",
    "if len(factors) == 2:\n",
    "    print(str(n) + \" 是質數\")\n",
    "else:\n",
    "    print(str(n) + \" 不是質數\")"
   ]
  },
  {
   "cell_type": "code",
   "execution_count": 68,
   "metadata": {},
   "outputs": [
    {
     "name": "stdout",
     "output_type": "stream",
     "text": [
      "11 的因數有 1 11\n",
      "11 是質數\n"
     ]
    }
   ],
   "source": [
    "n = int(input(\"請輸入正整數: \"))\n",
    "factors = []\n",
    "for i in range(1, n + 1):\n",
    "    if n % i == 0:\n",
    "        factors.append(i)\n",
    "print(str(n) + \" 的因數有 \" + ' '.join(map(str, factors)))\n",
    "if len(factors) == 2:\n",
    "    print(str(n) + \" 是質數\")\n",
    "else:\n",
    "    print(str(n) + \" 不是質數\")"
   ]
  },
  {
   "cell_type": "code",
   "execution_count": null,
   "metadata": {},
   "outputs": [],
   "source": []
  }
 ],
 "metadata": {
  "kernelspec": {
   "display_name": "Python 3",
   "language": "python",
   "name": "python3"
  },
  "language_info": {
   "codemirror_mode": {
    "name": "ipython",
    "version": 3
   },
   "file_extension": ".py",
   "mimetype": "text/x-python",
   "name": "python",
   "nbconvert_exporter": "python",
   "pygments_lexer": "ipython3",
   "version": "3.12.4"
  }
 },
 "nbformat": 4,
 "nbformat_minor": 2
}
