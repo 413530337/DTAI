{
 "cells": [
  {
   "cell_type": "code",
   "execution_count": 2,
   "metadata": {},
   "outputs": [
    {
     "name": "stdout",
     "output_type": "stream",
     "text": [
      "9.899999999999997\n"
     ]
    }
   ],
   "source": [
    "a=float(input())\n",
    "b=float(input())\n",
    "c=a%b\n",
    "print(c)\n"
   ]
  },
  {
   "cell_type": "code",
   "execution_count": 3,
   "metadata": {},
   "outputs": [
    {
     "name": "stdout",
     "output_type": "stream",
     "text": [
      "153,"
     ]
    }
   ],
   "source": [
    "k,j=map(int,input().split())\n",
    "if k > j:\n",
    "    k,j=j,k\n",
    "for i in range(k,j+1):\n",
    "    x=i//100\n",
    "    x=int(x)\n",
    "    y=(i//10)%10\n",
    "    y=int(y)\n",
    "    z=i% 10\n",
    "    z=int(z)\n",
    "    if((x**3)+(y**3)+(z**3)==i)and(i<1000):\n",
    "        print(i,end=\",\")"
   ]
  },
  {
   "cell_type": "code",
   "execution_count": 5,
   "metadata": {},
   "outputs": [
    {
     "name": "stdout",
     "output_type": "stream",
     "text": [
      "t= 2.0 b= 5.0 h= 4.8 area= 16.8"
     ]
    }
   ],
   "source": [
    "t=float(input())\n",
    "b=float(input())\n",
    "h=float(input())\n",
    "area=(t+b)*h/2\n",
    "print(\"t=\",t,\"b=\",b,\"h=\",h,\"area=\",area)\n"
   ]
  },
  {
   "cell_type": "code",
   "execution_count": 6,
   "metadata": {},
   "outputs": [
    {
     "name": "stdout",
     "output_type": "stream",
     "text": [
      "park time:11h:9m\n",
      "pay:300 money\n"
     ]
    }
   ],
   "source": [
    "x=input()\n",
    "x=int(x)\n",
    "t=20\n",
    "n=(x//60)\n",
    "m=(x%60)\n",
    "g=(t+40*n)\n",
    "j=f'park time:{n}h:{m}m'\n",
    "print(j)\n",
    "if (g==20):\n",
    "    h=f'pay:{g} money'\n",
    "    print(h)\n",
    "elif (g>=300):\n",
    "    h=f'pay:{300} money'\n",
    "    print(h)\n",
    "elif (g<=300):\n",
    "    h=f'pay:{g} money'\n",
    "    print(h)"
   ]
  },
  {
   "cell_type": "code",
   "execution_count": 7,
   "metadata": {},
   "outputs": [
    {
     "name": "stdout",
     "output_type": "stream",
     "text": [
      "[3, 4, 5, 6, 7]\n"
     ]
    }
   ],
   "source": [
    "a,b,c= map(int, input().split())\n",
    "result= list (range(a,b,c))\n",
    "print(result)"
   ]
  },
  {
   "cell_type": "code",
   "execution_count": 8,
   "metadata": {},
   "outputs": [
    {
     "name": "stdout",
     "output_type": "stream",
     "text": [
      "2000 is leap year\n"
     ]
    }
   ],
   "source": [
    "year = int(input())\n",
    "if year%4 == 0:\n",
    "    if year%100 ==0:\n",
    "       if year%400 ==0:\n",
    "           print(f'{year} is leap year')\n",
    "       else:\n",
    "           print(f'{year} is common year')\n",
    "    else:\n",
    "      print(f'{year} is leap year')\n",
    "else:\n",
    "    print(f'{year} is common year')"
   ]
  },
  {
   "cell_type": "code",
   "execution_count": 11,
   "metadata": {},
   "outputs": [
    {
     "name": "stdout",
     "output_type": "stream",
     "text": [
      "90 is A\n"
     ]
    }
   ],
   "source": [
    "x=int(input())\n",
    "if (x > 100) and (x<0):\n",
    "    print(x,\"is error\")\n",
    "elif 90<=x<=100:\n",
    "    print(x,\"is A\")\n",
    "elif 80<=x<=89:\n",
    "    print(x,\"is B\")\n",
    "elif 70<=x<=79:\n",
    "    print(x,\"is C\")\n",
    "elif 60<=x<=69:\n",
    "    print(x,\"is D\")\n",
    "elif 0<=x<=59:\n",
    "    print(x,\"is E\")\n",
    "\n",
    "\n"
   ]
  },
  {
   "cell_type": "code",
   "execution_count": 12,
   "metadata": {},
   "outputs": [
    {
     "name": "stdout",
     "output_type": "stream",
     "text": [
      "0,5,10,15,20,25,30,35,40,45,50,55,60,65,70,75,80,85,90,95,\n"
     ]
    }
   ],
   "source": [
    "a,b,c= map(int, input().split())\n",
    "result=\",\".join(str(i) for i in range(a,b,c))\n",
    "print(result + \",\")"
   ]
  },
  {
   "cell_type": "code",
   "execution_count": 13,
   "metadata": {},
   "outputs": [
    {
     "name": "stdout",
     "output_type": "stream",
     "text": [
      "*\n",
      "**\n",
      "***\n",
      "****\n"
     ]
    }
   ],
   "source": [
    "n= int(input())\n",
    "for i in range(1,n+1):\n",
    "  for j in range(1,i+1):\n",
    "      print(\"*\",end=\"\")\n",
    "  print()"
   ]
  },
  {
   "cell_type": "code",
   "execution_count": 14,
   "metadata": {},
   "outputs": [
    {
     "name": "stdout",
     "output_type": "stream",
     "text": [
      "1*1=1 1*2=2 1*3=3 1*4=4 1*5=5 1*6=6 1*7=7 1*8=8 1*9=9 \n",
      "2*1=2 2*2=4 2*3=6 2*4=8 2*5=10 2*6=12 2*7=14 2*8=16 2*9=18 \n",
      "3*1=3 3*2=6 3*3=9 3*4=12 3*5=15 3*6=18 3*7=21 3*8=24 3*9=27 \n",
      "4*1=4 4*2=8 4*3=12 4*4=16 4*5=20 4*6=24 4*7=28 4*8=32 4*9=36 \n",
      "5*1=5 5*2=10 5*3=15 5*4=20 5*5=25 5*6=30 5*7=35 5*8=40 5*9=45 \n",
      "6*1=6 6*2=12 6*3=18 6*4=24 6*5=30 6*6=36 6*7=42 6*8=48 6*9=54 \n",
      "7*1=7 7*2=14 7*3=21 7*4=28 7*5=35 7*6=42 7*7=49 7*8=56 7*9=63 \n",
      "8*1=8 8*2=16 8*3=24 8*4=32 8*5=40 8*6=48 8*7=56 8*8=64 8*9=72 \n",
      "9*1=9 9*2=18 9*3=27 9*4=36 9*5=45 9*6=54 9*7=63 9*8=72 9*9=81 \n"
     ]
    }
   ],
   "source": [
    "n=int(input())\n",
    "for i in range(n,10):\n",
    "    for j in range(1,10):\n",
    "        print(\"%d*%d=%d\" % (i,j,i*j), end=\" \")\n",
    "    print()"
   ]
  },
  {
   "cell_type": "code",
   "execution_count": null,
   "metadata": {},
   "outputs": [],
   "source": []
  }
 ],
 "metadata": {
  "kernelspec": {
   "display_name": "Python 3",
   "language": "python",
   "name": "python3"
  },
  "language_info": {
   "codemirror_mode": {
    "name": "ipython",
    "version": 3
   },
   "file_extension": ".py",
   "mimetype": "text/x-python",
   "name": "python",
   "nbconvert_exporter": "python",
   "pygments_lexer": "ipython3",
   "version": "3.12.4"
  }
 },
 "nbformat": 4,
 "nbformat_minor": 2
}
