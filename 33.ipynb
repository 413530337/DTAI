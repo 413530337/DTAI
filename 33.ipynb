{
 "cells": [
  {
   "cell_type": "code",
   "execution_count": 2,
   "metadata": {},
   "outputs": [
    {
     "name": "stdout",
     "output_type": "stream",
     "text": [
      "input error\n"
     ]
    }
   ],
   "source": [
    "X=int(input())\n",
    "if X >= 13:\n",
    "    print('input error')\n",
    "elif 3>=X>=5:\n",
    "    print(f'{X} is spring')\n",
    "elif 6>=X>=8:\n",
    "    print(f'{X} is summer')\n",
    "elif 9>=X>=11:\n",
    "    print(f'{X} is autumn')\n",
    "elif X==12 and X==1 or X==2:\n",
    "    print(f'{X} is winter')\n",
    "elif X<1:\n",
    "    print('input error')\n",
    "else:\n",
    "    print()"
   ]
  },
  {
   "cell_type": "code",
   "execution_count": 7,
   "metadata": {},
   "outputs": [
    {
     "name": "stdout",
     "output_type": "stream",
     "text": [
      "pay 600000.0 money\n"
     ]
    }
   ],
   "source": [
    "x=int(input())\n",
    "if x >= 2000000:\n",
    "    print(f\"pay {x*0.30:.1f} money\")\n",
    "elif x>=1000000:\n",
    "    print(f\"pay {x*0.21:.1f} money\")\n",
    "elif x>=600000:\n",
    "    print(f\"pay {x*0.13:.1f} money\")\n",
    "elif x>=300000:\n",
    "    print(f\"pay {x*0.06:.1f} money\")\n",
    "else:\n",
    "    print(f'pay {x*0:.1f} money')"
   ]
  },
  {
   "cell_type": "code",
   "execution_count": 8,
   "metadata": {},
   "outputs": [
    {
     "name": "stdout",
     "output_type": "stream",
     "text": [
      "pay 600000.0 money\n"
     ]
    }
   ],
   "source": [
    "x=int(input())\n",
    "if x >= 2000000:\n",
    "    稅=0.30\n",
    "elif x>=1000000:\n",
    "    稅=0.21\n",
    "elif x>=600000:\n",
    "    稅=0.13\n",
    "elif x>=300000:\n",
    "    稅=0.06\n",
    "else:\n",
    "    稅=0.0\n",
    "y=x*稅\n",
    "print(f'pay {y:.1f} money')"
   ]
  },
  {
   "cell_type": "code",
   "execution_count": 9,
   "metadata": {},
   "outputs": [
    {
     "name": "stdout",
     "output_type": "stream",
     "text": [
      "pay 0.0 money\n"
     ]
    }
   ],
   "source": [
    "x=int(input())\n",
    "if x >= 2000000:\n",
    "    稅率 = 0.30\n",
    "elif x >= 1000000:\n",
    "    稅率 = 0.21\n",
    "elif x >= 600000:\n",
    "    稅率 = 0.13\n",
    "elif x >= 300000:\n",
    "    稅率 = 0.06\n",
    "else:\n",
    "    稅率 = 0.0\n",
    "y = x*稅率\n",
    "print(f'pay {y:.1f} money')"
   ]
  },
  {
   "cell_type": "code",
   "execution_count": null,
   "metadata": {},
   "outputs": [],
   "source": [
    "n=list(map(int,input().split()))\n"
   ]
  },
  {
   "cell_type": "code",
   "execution_count": 10,
   "metadata": {},
   "outputs": [
    {
     "name": "stdout",
     "output_type": "stream",
     "text": [
      "10.0\n"
     ]
    }
   ],
   "source": [
    "a=float(input())\n",
    "b=float(input())\n",
    "c=float(input())\n",
    "d=(a+b)*c/2\n",
    "print(d)"
   ]
  },
  {
   "cell_type": "code",
   "execution_count": 12,
   "metadata": {},
   "outputs": [
    {
     "name": "stdout",
     "output_type": "stream",
     "text": [
      "t= 2.0 b= 5.0 h= 4.8 area= 16.8\n"
     ]
    }
   ],
   "source": [
    "a=float(input())\n",
    "b=float(input())\n",
    "c=float(input())\n",
    "d=(a+b)*c/2\n",
    "print(\"t=\",a,\"b=\",b,\"h=\",c,\"area=\",d)"
   ]
  },
  {
   "cell_type": "code",
   "execution_count": 2,
   "metadata": {},
   "outputs": [
    {
     "name": "stdout",
     "output_type": "stream",
     "text": [
      "10\n"
     ]
    }
   ],
   "source": [
    "#3個數的最小值\n",
    "a,b,c=input().split()\n",
    "int_a = int(a)\n",
    "int_b = int(b)\n",
    "int_c = int(c)\n",
    "min=int_a\n",
    "if(int_b <= min):\n",
    "    min = int_b\n",
    "if(int_c <= min):\n",
    "    min = int_c\n",
    "print(min)"
   ]
  },
  {
   "cell_type": "code",
   "execution_count": 9,
   "metadata": {},
   "outputs": [
    {
     "name": "stdout",
     "output_type": "stream",
     "text": [
      "84\n"
     ]
    }
   ],
   "source": [
    "#3 or 7 的倍數總和\n",
    "n = int(input())\n",
    "sum = 0\n",
    "for i in range(1 , n+1):\n",
    "    if(i % 3 == 0 or i %7 ==0):\n",
    "        sum += i\n",
    "print(sum)"
   ]
  },
  {
   "cell_type": "code",
   "execution_count": 13,
   "metadata": {},
   "outputs": [
    {
     "name": "stdout",
     "output_type": "stream",
     "text": [
      "*\n",
      "**\n",
      "***\n",
      "****\n"
     ]
    }
   ],
   "source": [
    "#用＊印出靠左下的直角三角形\n",
    "n= int(input())\n",
    "for i in range(1,n+1):\n",
    "  for j in range(1,i+1):\n",
    "      print(\"*\",end=\"\")\n",
    "  print()"
   ]
  },
  {
   "cell_type": "code",
   "execution_count": 14,
   "metadata": {},
   "outputs": [
    {
     "name": "stdout",
     "output_type": "stream",
     "text": [
      "1\n",
      "12\n",
      "123\n",
      "1234\n",
      "12345\n",
      "123456\n",
      "1234567\n",
      "12345678\n",
      "123456789\n",
      "12345678910\n"
     ]
    }
   ],
   "source": [
    "#用連續數字印出靠左下的直角三角形\n",
    "n=int(input())\n",
    "for i in range(1,n+1):\n",
    "  for j in range(1,i+1):\n",
    "      print(j,end=\"\")\n",
    "  print()\n"
   ]
  },
  {
   "cell_type": "code",
   "execution_count": 21,
   "metadata": {},
   "outputs": [
    {
     "name": "stdout",
     "output_type": "stream",
     "text": [
      "Invalid\n"
     ]
    }
   ],
   "source": [
    "#判斷是否構成三角形\n",
    "a=int(input())\n",
    "b=int(input())\n",
    "c=int(input())\n",
    "if (a+b>c) and  (a+c>b) and (b+c>a):\n",
    "    print(\"Valid\")\n",
    "else:\n",
    "    print(\"Invalid\")\n"
   ]
  },
  {
   "cell_type": "code",
   "execution_count": 22,
   "metadata": {},
   "outputs": [
    {
     "name": "stdout",
     "output_type": "stream",
     "text": [
      "2000 is leap year\n"
     ]
    }
   ],
   "source": [
    "#判斷平年、閏年\n",
    "year = int(input())\n",
    "if year%4 == 0:\n",
    "    if year%100 ==0:\n",
    "       if year%400 ==0:\n",
    "           print(f'{year} is leap year')\n",
    "       else:\n",
    "           print(f'{year} is common year')\n",
    "    else:\n",
    "      print(f'{year} is leap year')\n",
    "else:\n",
    "    print(f'{year} is common year')"
   ]
  },
  {
   "cell_type": "code",
   "execution_count": 23,
   "metadata": {},
   "outputs": [
    {
     "name": "stdout",
     "output_type": "stream",
     "text": [
      "9*1=9 9*2=18 9*3=27 9*4=36 9*5=45 9*6=54 9*7=63 9*8=72 9*9=81 \n"
     ]
    }
   ],
   "source": [
    "#印出乘法表\n",
    "n=int(input())\n",
    "for i in range(n,10):\n",
    "    for j in range(1,10):\n",
    "        print(\"%d*%d=%d\" % (i,j,i*j), end=\" \")\n",
    "    print()"
   ]
  },
  {
   "cell_type": "code",
   "execution_count": 24,
   "metadata": {},
   "outputs": [
    {
     "name": "stdout",
     "output_type": "stream",
     "text": [
      "Ans  apple\n"
     ]
    }
   ],
   "source": [
    "#Print字串\n",
    "n=input()\n",
    "print(\"Ans \",n)"
   ]
  },
  {
   "cell_type": "code",
   "execution_count": 25,
   "metadata": {},
   "outputs": [
    {
     "name": "stdout",
     "output_type": "stream",
     "text": [
      "21\n"
     ]
    }
   ],
   "source": [
    "#學號總和\n",
    "a,s,d,f,g,h,j,k,l=map(int,input().split())\n",
    "n=(a+s+d+f+g+h+j+k+l)\n",
    "print(n)"
   ]
  },
  {
   "cell_type": "code",
   "execution_count": 26,
   "metadata": {},
   "outputs": [
    {
     "name": "stdout",
     "output_type": "stream",
     "text": [
      "11\n"
     ]
    }
   ],
   "source": [
    "#取得字串長度\n",
    "n=str(input())\n",
    "len_n=len(n)\n",
    "print(len_n)"
   ]
  },
  {
   "cell_type": "code",
   "execution_count": 27,
   "metadata": {},
   "outputs": [
    {
     "name": "stdout",
     "output_type": "stream",
     "text": [
      "54 is E\n"
     ]
    }
   ],
   "source": [
    "#成績等第判斷\n",
    "x=int(input())\n",
    "if (x > 100) and (x<0):\n",
    "    print(x,\"is error\")\n",
    "elif 90<=x<=100:\n",
    "    print(x,\"is A\")\n",
    "elif 80<=x<=89:\n",
    "    print(x,\"is B\")\n",
    "elif 70<=x<=79:\n",
    "    print(x,\"is C\")\n",
    "elif 60<=x<=69:\n",
    "    print(x,\"is D\")\n",
    "elif 0<=x<=59:\n",
    "    print(x,\"is E\")\n",
    "\n",
    "\n"
   ]
  },
  {
   "cell_type": "code",
   "execution_count": 28,
   "metadata": {},
   "outputs": [
    {
     "name": "stdout",
     "output_type": "stream",
     "text": [
      "80% discount is 80000.0\n"
     ]
    }
   ],
   "source": [
    "#百貨公司週年慶\n",
    "x=int(input())\n",
    "if (x>=100000):\n",
    "    print(\"80%\",\"discount is\",(x*0.8))\n",
    "elif(x>=50000 and x<100000):\n",
    "    print(\"85%\",\"discount is\",(x*0.85))\n",
    "elif(x>=30000 and x<50000):\n",
    "    print(\"90%\",\"discount is\",(x*0.90))\n",
    "elif(x>=10000 and x<30000):\n",
    "    print(\"95%\",\"discount is\",(x*0.95))\n",
    "elif(x<10000):\n",
    "    print(\"no discount is\",x)"
   ]
  },
  {
   "cell_type": "code",
   "execution_count": 29,
   "metadata": {},
   "outputs": [
    {
     "name": "stdout",
     "output_type": "stream",
     "text": [
      "0,5,10,15,20,25,30,35,40,45,50,55,60,65,70,75,80,85,90,95,\n"
     ]
    }
   ],
   "source": [
    "#利用for迴圈產生指定數列\n",
    "a,b,c= map(int, input().split())\n",
    "result=\",\".join(str(i) for i in range(a,b,c))\n",
    "print(result + \",\")"
   ]
  },
  {
   "cell_type": "code",
   "execution_count": 30,
   "metadata": {},
   "outputs": [
    {
     "name": "stdout",
     "output_type": "stream",
     "text": [
      "[3, 4, 5, 6, 7]\n"
     ]
    }
   ],
   "source": [
    "#利用range產生指定串列list\n",
    "a,b,c= map(int, input().split())\n",
    "result= list (range(a,b,c))\n",
    "print(result)"
   ]
  },
  {
   "cell_type": "code",
   "execution_count": 32,
   "metadata": {},
   "outputs": [
    {
     "name": "stdout",
     "output_type": "stream",
     "text": [
      "Invalid\n"
     ]
    }
   ],
   "source": [
    "#判斷是否為等腰三角形\n",
    "a,b,c=input().split()\n",
    "a=int(a)\n",
    "b=int(b)\n",
    "c=int(c)\n",
    "if (a==b) or (a==c) or(b==c):\n",
    "    print(\"Valid\")\n",
    "else:\n",
    "    print(\"Invalid\")"
   ]
  },
  {
   "cell_type": "code",
   "execution_count": 33,
   "metadata": {},
   "outputs": [
    {
     "name": "stdout",
     "output_type": "stream",
     "text": [
      "park time:11h:9m\n",
      "pay:300 money\n"
     ]
    }
   ],
   "source": [
    "#停車費\n",
    "x=input()\n",
    "x=int(x)\n",
    "t=20\n",
    "n=(x//60)\n",
    "m=(x%60)\n",
    "g=(t+40*n)\n",
    "j=f'park time:{n}h:{m}m'\n",
    "print(j)\n",
    "if (g==20):\n",
    "    h=f'pay:{g} money'\n",
    "    print(h)\n",
    "elif (g>=300):\n",
    "    h=f'pay:{300} money'\n",
    "    print(h)\n",
    "elif (g<=300):\n",
    "    h=f'pay:{g} money'\n",
    "    print(h)"
   ]
  },
  {
   "cell_type": "code",
   "execution_count": 34,
   "metadata": {},
   "outputs": [
    {
     "name": "stdout",
     "output_type": "stream",
     "text": [
      "153,"
     ]
    }
   ],
   "source": [
    "#利用for迴圈來尋找水仙花數\n",
    "k,j=map(int,input().split())\n",
    "if k > j:\n",
    "    k,j=j,k\n",
    "for i in range(k,j+1):\n",
    "    x=i//100\n",
    "    x=int(x)\n",
    "    y=(i//10)%10\n",
    "    y=int(y)\n",
    "    z=i% 10\n",
    "    z=int(z)\n",
    "    if((x**3)+(y**3)+(z**3)==i)and(i<1000):\n",
    "        print(i,end=\",\")"
   ]
  },
  {
   "cell_type": "code",
   "execution_count": 36,
   "metadata": {},
   "outputs": [
    {
     "name": "stdout",
     "output_type": "stream",
     "text": [
      "t= 2.0 b= 5.0 h= 4.8 area= 16.8\n"
     ]
    }
   ],
   "source": [
    "#梯面\n",
    "t=float(input())\n",
    "b=float(input())\n",
    "h=float(input())\n",
    "area=(t+b)*h/2\n",
    "print(\"t=\",t,\"b=\",b,\"h=\",h,\"area=\",area)\n"
   ]
  },
  {
   "cell_type": "code",
   "execution_count": 37,
   "metadata": {},
   "outputs": [
    {
     "name": "stdout",
     "output_type": "stream",
     "text": [
      "2.5\n"
     ]
    }
   ],
   "source": [
    "#計算除法餘數\n",
    "a = float(input())\n",
    "b = float(input())\n",
    "c = a % b\n",
    "print(c)\n"
   ]
  },
  {
   "cell_type": "code",
   "execution_count": 38,
   "metadata": {},
   "outputs": [
    {
     "name": "stdout",
     "output_type": "stream",
     "text": [
      "13.333333333333334\n"
     ]
    }
   ],
   "source": [
    "#計算除法商數至小數\n",
    "a = float(input())\n",
    "b = float(input())\n",
    "c = a / b\n",
    "print(c)"
   ]
  },
  {
   "cell_type": "code",
   "execution_count": null,
   "metadata": {},
   "outputs": [],
   "source": []
  }
 ],
 "metadata": {
  "kernelspec": {
   "display_name": "Python 3",
   "language": "python",
   "name": "python3"
  },
  "language_info": {
   "codemirror_mode": {
    "name": "ipython",
    "version": 3
   },
   "file_extension": ".py",
   "mimetype": "text/x-python",
   "name": "python",
   "nbconvert_exporter": "python",
   "pygments_lexer": "ipython3",
   "version": "3.12.5"
  }
 },
 "nbformat": 4,
 "nbformat_minor": 2
}
